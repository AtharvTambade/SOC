{
 "cells": [
  {
   "cell_type": "code",
   "execution_count": 2,
   "metadata": {},
   "outputs": [
    {
     "name": "stdout",
     "output_type": "stream",
     "text": [
      "0.5\n",
      "0.250727453285439\n",
      "0.250727453285439\n",
      "0.258285773689618\n",
      "0.258285773689618\n",
      "0.258293158498080\n",
      "0.258293158498080\n"
     ]
    }
   ],
   "source": [
    "from math import *\n",
    "import numpy as np\n",
    "from sympy import *\n",
    "# define what is the variable\n",
    "#we import sympy because we don't want to find derivative manually\n",
    "x = symbols('x')\n",
    "# define the function\n",
    "function = 2-4*x-cos(x)\n",
    "# find the first derivative\n",
    "diff_function = function.diff(x)\n",
    "# sensible stopping criteria to use for newton raphson is to  minimise the distance between consecutive \n",
    "# approximate roots because we don't know the exact root so we can't use other stopping criterias\n",
    "def Newton_raphson(function, diff_function, a, stopping_criteria):\n",
    "    x_value = a # a initial value of x\n",
    "    root_found = False # At first root is unknown\n",
    "    while root_found == False :\n",
    "      x_value_previous = x_value # remembering the preivious value for stopping criteria condition\n",
    "      x_value=x_value - function.evalf(subs= {x:x_value})/diff_function.evalf(subs= {x:x_value})\n",
    "      print(x_value_previous)\n",
    "      print(x_value)\n",
    "      \n",
    "      if abs(x_value_previous - x_value) < stopping_criteria:\n",
    "         root_found = True # After passing the stopping criteria root is found\n",
    "    return x_value\n",
    "approx_value = Newton_raphson(function, diff_function, 0.5, 10**-4)\n",
    "print(approx_value)"
   ]
  }
 ],
 "metadata": {
  "kernelspec": {
   "display_name": "Python 3",
   "language": "python",
   "name": "python3"
  },
  "language_info": {
   "codemirror_mode": {
    "name": "ipython",
    "version": 3
   },
   "file_extension": ".py",
   "mimetype": "text/x-python",
   "name": "python",
   "nbconvert_exporter": "python",
   "pygments_lexer": "ipython3",
   "version": "3.10.11"
  },
  "orig_nbformat": 4
 },
 "nbformat": 4,
 "nbformat_minor": 2
}
