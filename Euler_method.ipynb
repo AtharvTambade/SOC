{
 "cells": [
  {
   "cell_type": "code",
   "execution_count": 13,
   "metadata": {},
   "outputs": [
    {
     "name": "stdout",
     "output_type": "stream",
     "text": [
      "4.377784320000001\n"
     ]
    }
   ],
   "source": [
    "from math import *\n",
    "import numpy as np\n",
    "import matplotlib.pyplot as plt\n",
    "from scipy.stats import norm\n",
    "\n",
    "\n",
    "def integrand (x,y):\n",
    "  return x*y  # put your function here\n",
    "\n",
    "def euler_method(integrand, a, b, y_0, n): # y_0 initial value of y\n",
    "    h = (b - a)/n # stepp size\n",
    "    x_value = a # a initial value of x\n",
    "    y_value=y_0 # y_0 initial value of y\n",
    "    for i in range(0, n):\n",
    "      y_value=y_value + h*integrand(x_value + h*i,y_value)\n",
    "    return y_value\n",
    "    # here we want final value of y so I didn't bother about memory \n",
    "approx_value = euler_method(integrand, 0, 1, 3, 5)\n",
    "print(approx_value)"
   ]
  }
 ],
 "metadata": {
  "kernelspec": {
   "display_name": "Python 3",
   "language": "python",
   "name": "python3"
  },
  "language_info": {
   "codemirror_mode": {
    "name": "ipython",
    "version": 3
   },
   "file_extension": ".py",
   "mimetype": "text/x-python",
   "name": "python",
   "nbconvert_exporter": "python",
   "pygments_lexer": "ipython3",
   "version": "3.10.11"
  },
  "orig_nbformat": 4
 },
 "nbformat": 4,
 "nbformat_minor": 2
}
