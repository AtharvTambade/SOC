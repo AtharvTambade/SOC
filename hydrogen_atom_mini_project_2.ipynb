{
  "cells": [
    {
      "attachments": {},
      "cell_type": "markdown",
      "metadata": {
        "id": "c0R8hXUD6eFn"
      },
      "source": [
        "The Hamiltonian for a system of an electron and a proton is:\n",
        "\n",
        "$$\\hat{H}_{total} = -\\frac{\\hbar^2}{2m_p}\\nabla^2_p + -\\frac{\\hbar^2}{2m_e}\\nabla^2_e + \\frac{e^2}{4 \\pi \\varepsilon_0 |\\vec{r}_1 - \\vec{r}_2|}$$"
      ]
    },
    {
      "attachments": {},
      "cell_type": "markdown",
      "metadata": {
        "id": "D57hVj_c6eFq"
      },
      "source": [
        "# Eigenstates of the System\n",
        "Which we will, of course, put in the Time-Dependent Schrodinger Equation:\n",
        "\n",
        "$$\\hat{E} \\Psi(\\vec{r}_1, \\vec{r}_2, t) = \\hat{H} \\Psi(\\vec{r}_1, \\vec{r}_2, t)\\\\\n",
        "%\\implies E_k \\Psi_k(\\vec{r}_1, \\vec{r}_2, t) = \\hat{H} \\Psi_k(\\vec{r}_1, \\vec{r}_2, t)$$\n",
        "\n",
        "However, we will simplify the situation first. The first thing you might have noticed is that for a two-particle system, the wavefunction depends on two coordinates, and this in fact extends the interpretation of $\\Psi^2$ for a one-particle system (which was just the propability amplitude for finding the particle at that particular position), to being \"the probability of finding particle 1 at $\\vec{r}_1$ and particle 2 at $\\vec{r_2}$\". This is clearly something interesting, but we'll ignore two particle wavefunctions for now and focus on converting our problem to that of a one-particle wavefunction.\n",
        "\n",
        "Another problem with two or more particles being simulated is that the Schrodinger equation just does not take spin into account, and spin is quite important for simulating multiparticle systems. We can't even simulate the hydrogen molecule $\\text{H}_2$ without spin; the Schrodinger equation - if spin is not incorporated - predicts that hydrogen molecules can't exist (!) due to the fermionic interaction between the two atomic electrons. Specifically, the second electron is stuck in the higher energy non-bonding orbital $\\sigma^\\ast_{1s}$, and thus there is minimal energy change from the free atom case."
      ]
    },
    {
      "attachments": {},
      "cell_type": "markdown",
      "metadata": {
        "id": "BsGZFwI16eFq"
      },
      "source": [
        "We apply the coordinate transformation to center of mass of coordinates, upon which we get the following Hamiltonian:\n",
        "\n",
        "$$\\hat{H}_{\\text{CoM}}= -\\frac{\\hbar^2}{2\\mu}\\nabla_R^2-\\frac{\\hbar^2}{2\\mu}\\nabla_r^2 - \\frac{e^2}{4 \\pi \\varepsilon_0 |\\vec{r}|}$$\n",
        "\n",
        "Where $\\mu = \\frac{m_p m_e}{m_p + m_e}$, $\\vec{R} = \\frac{m_e \\vec{r_e} + m_p \\vec{r_p}}{m_e + m_p}$ are the CoM coordiantes, and $\\vec{r} = \\vec{r_e} - \\vec{r_p}$ is the displacement vector from one particle to the other. Either sign works. Refer to CH107 from first year for the details. Thus our Hamiltonian is separated into free-particle Hamiltonian on the COM and a one-particle Hamiltonian in a Coulombic potential. We are interested in the second part.\n",
        "\n",
        "## Question 1\n",
        "Expand the second part of the Hamiltonian, the one acting on the displacement vector $\\vec{r} = (x,y,z) = (r,\\theta, \\phi)$, in both Cartesian and spherical coordinates."
      ]
    },
    {
      "attachments": {},
      "cell_type": "markdown",
      "metadata": {
        "id": "3xDWknFxmC_3"
      },
      "source": [
        "## Answer 1\n",
        "Cartesian Co-ordinate:\n",
        "$$-\\frac{\\hbar^2}{2\\mu}\\left( \\frac{\\partial^2}{\\partial x^2}+\\frac{\\partial^2}{\\partial y^2}+\\frac{\\partial^2}{\\partial z^2} \\right)- \\frac{e^2}{4 \\pi \\varepsilon_0 \\sqrt{x^2+y^2+z^2}}$$\n",
        "\n",
        "Spheriacal Co-ordinate:\n",
        "$$-\\frac{\\hbar^2}{2\\mu}\\left( \\frac{1}{r^2}\\frac{\\partial}{\\partial r}\\left(r^2\\frac{\\partial}{\\partial r}\\right)+\\frac{1}{r^2 sin^2{\\phi}}\\frac{\\partial^2}{\\partial \\theta^2}+\\frac{1}{r^2 sin{\\phi}}\\frac{\\partial}{\\partial \\phi}\\left(sin{\\phi}\\frac{\\partial}{\\partial \\phi}\\right) \\right) - \\frac{e^2}{4 \\pi \\varepsilon_0 |\\vec{r}|}$$\n"
      ]
    },
    {
      "attachments": {},
      "cell_type": "markdown",
      "metadata": {
        "id": "BdjdXfmU6eFr"
      },
      "source": [
        "# Numerical Solution\n",
        "Here's how we are going to solve this numerically:\n",
        "\n",
        "First, note that the initial conditions given to us are the values of $\\psi(\\vec{r}, t)$ for every value of $\\vec{r}$ (practically, for all position values possible in our grid). Using the finite-difference method, we discretize the right side of the equation so that the partial derivative terms get converted into terms involving the value of $\\psi$ at a coordinate _and_ its neighoring coordinates.\n",
        "\n",
        "Now, we can simply write rewrite the Schrodinger equation as:\n",
        "\n",
        "$$ \\frac{\\partial \\psi_{i,j,k}(t)}{\\partial t} = f(t, \\psi) $$\n",
        "\n",
        "We can use 4-th order Runge Kutta method (we'll discuss what that is later) to solve this differntial equation in one variable, for $\\psi_{i,j,k}$ with all possible values of $i, j, k$ that land within our specified boundary."
      ]
    },
    {
      "attachments": {},
      "cell_type": "markdown",
      "metadata": {
        "id": "CRd-fAWm6eFr"
      },
      "source": [
        "## Question 2\n",
        "Discretize the space part of the Schrodinger Equation using Cartesian coordinates. Consider a spacing between the points of $\\Delta x$ for all axes."
      ]
    },
    {
      "attachments": {},
      "cell_type": "markdown",
      "metadata": {
        "id": "3W8SWEHhYhfZ"
      },
      "source": [
        "## Answer 2\n",
        "$$-\\frac{\\hbar^2}{2\\mu}\\frac{1}{\\Delta x^2}\\left( \\psi_{i+1,j,k} + \\psi_{i-1,j,k} +\\psi_{i,j+1,k}+\\psi_{i,j-1,k}+\\psi_{i,j,k+1}+\\psi_{i,j,k-1}- 6\\psi_{i,j,k}\\right)- \\frac{e^2}{4 \\pi \\varepsilon_0 \\Delta x^2 \\sqrt{i^2+j^2+k^2}}\\psi_{i,j,k}"
      ]
    },
    {
      "attachments": {},
      "cell_type": "markdown",
      "metadata": {
        "id": "7DwCwrY46eFr"
      },
      "source": [
        "We can actually use this discretized form of the right hand side to compute the energy eigenstates and eigenvalues of the electron in this hydrogen atom model, which should give us the familiar orbitals of a hydrogen atom. Let's try that first!\n",
        "\n",
        "All we need to do is to construct the Hamiltonian matrix by first flattening the possible coordinates of psi and then constructing the operator matrix that gives us the left hand side of the equation. Then we use an eigensolver algorithm for the operator matrix to obtain the eigenvectors and eigenvalues."
      ]
    },
    {
      "attachments": {},
      "cell_type": "markdown",
      "metadata": {
        "id": "mmO48qNDoRsz"
      },
      "source": [
        "Step 1 : Let us create the Hamiltonian operator and all the other tools we will need."
      ]
    },
    {
      "cell_type": "code",
      "execution_count": 1,
      "metadata": {
        "id": "sb18uIPR6eFs"
      },
      "outputs": [],
      "source": [
        "#importing standard data science libraries\n",
        "import numpy as np\n",
        "import pandas as pd\n",
        "import matplotlib.pyplot as plt\n",
        "from math import *"
      ]
    },
    {
      "attachments": {},
      "cell_type": "markdown",
      "metadata": {
        "id": "sF3caLBBVYqJ"
      },
      "source": [
        "## Question 3: Constructing the Hamiltonian Operator\n",
        "Recall the method of converting the discretized version of the laplacian operator into a 2D matrix, and apply the same technique for the discretized version of the hamiltonian operator. Construct the hamiltonian matrix within `get_hamiltonian`. Also fill in the helper functions `index3d_to_flat`, `flat_to_index3d`, and `index3d_to_coords`."
      ]
    },
    {
      "cell_type": "code",
      "execution_count": 2,
      "metadata": {
        "id": "saMFpiWl6eFt"
      },
      "outputs": [],
      "source": [
        "import scipy.sparse as sp\n",
        "from scipy.constants import hbar, e, m_e, m_p, epsilon_0, pi\n",
        "\n",
        "#reduced mass\n",
        "mu = m_e*m_p/(m_e+m_p)\n",
        "\n",
        "N = 100\n",
        "Delta_x = 2e-9/N # our boundary width is 1e-8 m\n",
        "\n",
        "def index3d_to_flat(i,j,k):\n",
        "  '''Write a function that converts the i,j,k integer coordinates of the unflattened psi array\n",
        "     into the appropriate flattened index\n",
        "  '''\n",
        "  # Code here\n",
        "  flat_index=i+j*N+k*N*N\n",
        "  return flat_index\n",
        "\n",
        "def flat_to_index3d(flat_index):\n",
        "  '''Now write a function to do the reverse. Remember the limits on the coords\n",
        "     i.e. 0 <= i,j,k < N. Base N if you prefer that.\n",
        "  '''\n",
        "  # Code here\n",
        "  k=flat_index//(N*N)\n",
        "  j=(flat_index-k*N*N)//N\n",
        "  i=flat_index-k*N*N-j*N\n",
        "  return i,j,k\n",
        "\n",
        "def index3d_to_coords(i,j,k):\n",
        "  '''Now we transform the coords to real space coordinate. Remember to incorporate\n",
        "     the scaling factor\n",
        "  '''\n",
        "  # Code here\n",
        "  x=(i)*Delta_x\n",
        "  y=(j)*Delta_x\n",
        "  z=(k)*Delta_x\n",
        "\n",
        "  return (x,y,z)\n",
        "\n",
        "# Define the position of the proton/central position, depends if you are taking\n",
        "# an approximation point of view or proper CoM transformation\n",
        "proton_position = index3d_to_coords((N - 1)/2.0, (N - 1)/2.0, (N - 1)/2.0)\n",
        "# Or you can remove this and implicitly assume an appropriate position below\n",
        "#we nee to write a function to calculate distance between proton and any position \n",
        "def dist_proton_coordinate(i, j, k, proton_position):\n",
        "   (x,y,z)=index3d_to_coords(i,j,k)\n",
        "   dist_proton_coordinate=sqrt((x - proton_position[0])**2 + (y - proton_position[1])**2 + (z - proton_position[2])**2)\n",
        "   return dist_proton_coordinate\n",
        "\n",
        "hamiltonian = sp.lil_matrix((N**3, N**3), dtype=np.cfloat) # create a sparse matrix\n",
        "\n",
        "def get_hamiltonian(matrix, N, Delta_x):\n",
        "    T_factor = -(hbar**2)/(2*mu*(Delta_x**2))\n",
        "    V_factor = e**2/(4*pi*epsilon_0)\n",
        "    '''Initialize the matrix elements appropriately.\n",
        "       Since the matrix is going to be large, we have already taken it to be sparse.\n",
        "       No need to set any 0 elements.\n",
        "    '''\n",
        "    for i in range(0,N):\n",
        "        for j in range(0,N):\n",
        "            for k in range(0,N):\n",
        "                if i < N-1: matrix[i + j*N + k*N*N, i+1 + j*N + k*N*N] = T_factor\n",
        "                if j < N-1: matrix[i + j*N + k*N*N, i + (j+1)*N + k*N*N] = T_factor\n",
        "                if k < N-1: matrix[i + j*N + k*N*N, i + j*N + (k+1)*N*N] = T_factor\n",
        "                if i > 0: matrix[i + j*N + k*N*N, i-1 + j*N + k*N*N] = T_factor\n",
        "                if j > 0: matrix[i + j*N + k*N*N, i + (j-1)*N + k*N*N] = T_factor\n",
        "                if k > 0: matrix[i + j*N + k*N*N, i + j*N + (k-1)*N*N] = T_factor\n",
        "                matrix[i + j*N + k*N*N, i + j*N + k*N*N] = -6*T_factor - V_factor/dist_proton_coordinate(i, j, k, proton_position)\n",
        "\n",
        "    return matrix\n",
        "\n",
        "\n",
        "hamiltonian = get_hamiltonian(hamiltonian, N, Delta_x)"
      ]
    },
    {
      "attachments": {},
      "cell_type": "markdown",
      "metadata": {
        "id": "364Ds6SQZZHW"
      },
      "source": [
        "Ok, so what is the algorithm we are going to use? This is a procedure called _power iteration_.\n",
        "\n",
        "Consider the eigenvalue problem $Ax = \\lambda x$, with eigenpairs $(\\lambda_i, x_i)$. For convenience we assume that $\\lambda_1 > \\lambda_2 > \\cdots > \\lambda_n$ (or atleast their absolute values, if we have complex eigenvalues). Let us have any random vector $b = x_1 + x_2 + \\cdots + x_n$, for appropriately scaled $x_i$. Then we find that on repeat application of the matrix, $$\\begin{align}\n",
        " b^{(0)} &= b & &= \\phantom{\\lambda_1} x_1 + \\phantom{\\lambda_2} x_2 + \\cdots + \\phantom{\\lambda_n} x_n \\\\\n",
        " b^{(1)} &= Ab & &= \\lambda_1 x_1 + \\lambda_2 x_2 + \\cdots + \\lambda_n x_n \\\\\n",
        " b^{(2)} &= A^2b & &= \\lambda_1^2 x_1 + \\lambda_2^2 x_2 + \\cdots + \\lambda_n^2 x_n \\\\\n",
        " & &&\\hspace{4em} \\vdots \\\\\n",
        " b^{(k)} &= A^kb & &= \\lambda_1^k x_1 + \\lambda_2^k x_2 + \\cdots + \\lambda_n^k x_n \\\\\n",
        "\\end{align}$$\n",
        "If we consider the most dominant factor in $b^{(k)}$, we find that clearly must be $\\lambda_1^k x_1$, since $$b^{(k)} = \\lambda_1^k \\left( x_1 + \\left(\\frac{\\lambda_2}{\\lambda_1}\\right)^k x_2 + \\cdots + \\left(\\frac{\\lambda_k}{\\lambda_1}\\right)^k x_n \\right)$$\n",
        "Since each factor for the other eigenvectors have absolute values less than 1 (because $|\\lambda_1| > |\\lambda_i| \\forall i$), the multiplier trends of to 0. Note that this is a terrible way to take a limit, but it's fine for now.\n",
        "\n",
        "Thus, if we had some way, any way, to rescale and normalize $b^{(k)}$, then it would trend to the eigenvector. Hurrah, 1 eigenvector extracted! Let's implement that.\n",
        "\n",
        "Although while implementing the algortihm, you'll want to rescale $b^{(k)}$ at each step instead of just at the end. It will also make comparisions with previous iterations easier when determining convergence."
      ]
    },
    {
      "attachments": {},
      "cell_type": "markdown",
      "metadata": {
        "id": "NigsZ2rMWtLL"
      },
      "source": [
        "## Question 4: Implementing the Power Iteration Algorithm\n",
        "Based on the theory provided above, implement the power iteration algorithm within the `power_iteration` function."
      ]
    },
    {
      "cell_type": "code",
      "execution_count": 6,
      "metadata": {
        "id": "m9MqNe_I_Rkc"
      },
      "outputs": [],
      "source": [
        "def power_iteration(matrix, x_0 = None,mu =None, max_iterations = 1000, excluded_space=None) :\n",
        "  \n",
        "  if x_0 is None:\n",
        "      x = np.random.rand(matrix.shape[1])\n",
        "  else:\n",
        "      x = np.array(x_0)\n",
        "  if mu is None:\n",
        "      mu = 0      \n",
        "  matrix = matrix - mu * sp.identity(matrix.shape[1])\n",
        "\n",
        "\n",
        "  #eigen_prev = 0\n",
        "  for i in range(max_iterations):\n",
        "    if excluded_space is not None:\n",
        "            for list in excluded_space:\n",
        "                x = x - (np.dot(x, list)/np.dot(list, list))*list   \n",
        "\n",
        "    x =  matrix@ x / np.linalg.norm(matrix @ x)\n",
        "    #eigen = (x.T @ matrix @ x) / (x.T @ x)\n",
        "    # if abs((eigen - eigen_prev)/eigen) < tolerance:\n",
        "    #     break\n",
        "    # eigen_prev = eigen\n",
        "  eigen = x.T@ matrix @ x\n",
        "  return eigen+mu,x\n",
        "  # The @ operator implements matrix multiplication btw.\n",
        "  # There are some caveats for tensors, but we don't need to worry about that\n",
        "\n",
        "\n"
      ]
    },
    {
      "cell_type": "code",
      "execution_count": 7,
      "metadata": {
        "id": "0Aiikdivq4BZ"
      },
      "outputs": [
        {
          "name": "stdout",
          "output_type": "stream",
          "text": [
            "(1.827477300124219e-16+0j) [ 1.87034929e-06+0.j -3.72301035e-06+0.j  5.54070206e-06+0.j ...\n",
            " -7.78881028e-06+0.j  5.23637154e-06+0.j -2.63146972e-06+0.j]\n"
          ]
        }
      ],
      "source": [
        "# Get the one with max(abs) eigen value\n",
        "e_val1, eig_vec1 = power_iteration(hamiltonian, max_iterations = 1000)\n",
        "eigenvector_list = [eig_vec1]\n",
        "eigenvalue_list = [e_val1]\n",
        "print(e_val1, eig_vec1)"
      ]
    },
    {
      "attachments": {},
      "cell_type": "markdown",
      "metadata": {
        "id": "CRsWzH6fgcae"
      },
      "source": [
        "Yay, the code above should compute the eigenvector with largest (absolute) eigenvalue. Feel free to go ahead and visualize the eigenstate using the `plot_wavefunction_2dslice` function a few cells below. However, the eigenvalue is probably positive, and you will be disappointed by the plot. After all, the largest absolute eigenvalue need not be the ground state, it's a hydrogen atom in a _box_ after all. Positive energy states are expected.\n",
        "\n",
        "So, how get at the ground state? Well, we can manipulate the eigenvalues of a matrix by adding matrices that are _similar_ to it([remember the linear algebra defintion](https://en.wikipedia.org/wiki/Matrix_similarity)), and the identity matrix is similar to everything. Thus we shift our eigenvalues by operating on the matrix $(A-\\mu I)$ instead! If we choose $\\mu$ to be the positive maximum eigenvalue we found, then the one we will obtain from computing $(A-\\mu I)$ will the one which is farthest from the positive eigenvalue, the negative maximum eigenvalue, the ground state. Note that for our $A$, all eigenvalues are real since it's hermitian."
      ]
    },
    {
      "attachments": {},
      "cell_type": "markdown",
      "metadata": {
        "id": "Mxep9MGps1aK"
      },
      "source": [
        "Go back and add the optional $\\mu$ input variable (named `mu`) to the function `power_iteration`. For optimization, we suggest not creating a new matrix $M = A - \\mu I$ but implementing it implicitly. Be sure to compensate for $\\mu$ in the output eigenvalue if you do end up editing the matrix."
      ]
    },
    {
      "cell_type": "code",
      "execution_count": 8,
      "metadata": {
        "id": "SsnIkavVNLOj"
      },
      "outputs": [
        {
          "name": "stdout",
          "output_type": "stream",
          "text": [
            "(-2.109356566320346e-18+0j) [1.00248335e-10+0.j 2.00050567e-10+0.j 2.98957031e-10+0.j ...\n",
            " 2.97090802e-10+0.j 1.98794390e-10+0.j 9.96166229e-11+0.j]\n",
            "(1.827477300124219e-16+0j) [ 1.87034929e-06+0.j -3.72301035e-06+0.j  5.54070206e-06+0.j ...\n",
            " -7.78881028e-06+0.j  5.23637154e-06+0.j -2.63146972e-06+0.j]\n"
          ]
        }
      ],
      "source": [
        "# Get the other one and sort\n",
        "e_val2, eig_vec2 = power_iteration(hamiltonian, mu = e_val1, max_iterations = 1000)\n",
        "# Now technically we don't know which one was the maximum and which one was the minimum,\n",
        "# just that they are bounds of the eigen values. So let's sort them.\n",
        "min_e, max_e = (e_val1, e_val2) if e_val1.real < e_val2.real else (e_val2, e_val1)\n",
        "min_vec, max_vec = (eig_vec1, eig_vec2) if e_val1.real < e_val2.real else (eig_vec2, eig_vec1)\n",
        "# Technically the order doesn't matter here, but we are doing this for later convenience\n",
        "eigenvector_list = [max_vec, min_vec]\n",
        "eigenvalue_list = [max_e, min_e]\n",
        "\n",
        "print(min_e, min_vec)\n",
        "print(max_e, max_vec)"
      ]
    },
    {
      "attachments": {},
      "cell_type": "markdown",
      "metadata": {
        "id": "PKE_MI7atrAy"
      },
      "source": [
        "After running the above code, you should obtain an eigenvalue that is smaller than the one who add before. It may still be positive, so to get the actual ground state value it is recommended that you run it for 1000 or 3000 iterations. Open Netflix if you do go for 3000.\n",
        "\n",
        "Try plotting it with `plot_wavefunction_2dslice`. You should see a singular dot on your screen, resembling the 1s wavefunction."
      ]
    },
    {
      "cell_type": "code",
      "execution_count": 9,
      "metadata": {},
      "outputs": [
        {
          "data": {
            "image/png": "[encoded data removed]",
            "text/plain": [
              "<Figure size 1000x1000 with 2 Axes>"
            ]
          },
          "metadata": {},
          "output_type": "display_data"
        }
      ],
      "source": [
        "def plot_wavefunction_2dslice(eigenvector, slice_index = N//2):\n",
        "  # plot the wavefunction in 2D slices\n",
        "  plt.figure(figsize=(10,10))\n",
        "  plt.imshow(np.abs(eigenvector.reshape((N,N,N))[:,:,slice_index]), cmap='hot')\n",
        "  plt.colorbar()\n",
        "  plt.show()\n",
        "\n",
        "plot_wavefunction_2dslice(min_vec)"
      ]
    },
    {
      "attachments": {},
      "cell_type": "markdown",
      "metadata": {
        "id": "DuK35NVyuael"
      },
      "source": [
        "Ok, so that's the ground state, but what about any of the other states? Well, back when we were considering $b^{(k)} = A^kb = \\lambda_1^k x_1 + \\lambda_2^k x_2 + \\cdots + \\lambda_n^k x_n$, if we were to just remove $x_1$ and any other eigenvectors we know, then the vector we would converge to would just be the one with the second largest eigenvalue, the first excited state.\n",
        "\n",
        "But how do just remove a vector? We use a fairly standard vector operation called *projection* (or rather it's cousin, *rejection*) that can convert a vector $v_1$ into two vectors $v_1 = p + n$, where $p \\parallel v_2$ and $n \\perp v_2$ for a given vector $v_2$. Projection is taking $p$ as the result Rejection is taking $n$. It's fairly elementary, so I'll allow you to [look it up yourself](https://en.wikipedia.org/wiki/Vector_projection).\n",
        "\n",
        "Since Hamiltonians are hermitian, the different eigenvectors are orthogonal to each other. So if we implement this rejection process at every step, then we remove the ground state (and any other states we have already found), and so we get the first excited state.\n",
        "\n",
        "> Technically we could just apply rejection once in the beginning, since eigenvectors evolve into themselves when applying the matrix, but since we don't have the true eigenvectors and only their approximations, applying it at each step is better.\n",
        "\n",
        "Also, when performing rejection using multiple orthogonal vectors, either you can do it in a single step ($b' = b - p_1 - p_2 - \\cdots$), or in multiple steps ($b_1 = b - p_1(b), b_2 = b_1 - p_2(b_1), \\cdots$). The multi-step approach is preferred as it is found to be numerically stable."
      ]
    },
    {
      "attachments": {},
      "cell_type": "markdown",
      "metadata": {
        "id": "Rok-cFw8zDw2"
      },
      "source": [
        "Ok, so now that you have understood the process, add an optional input variable `excluded_space` to the function `power_iteration`. It will be a list of vectors, like the `eigenvector_list` we have maintained so far (here it is a normal python list instead of numpy list because of memory reasons, but either works). Perform rejection using all the vectors after each iteration."
      ]
    },
    {
      "cell_type": "code",
      "execution_count": 10,
      "metadata": {
        "id": "C_MFyacnTJKh"
      },
      "outputs": [],
      "source": [
        "for _ in range(4) :\n",
        "  eig_val, eig_vec = power_iteration(hamiltonian, mu = max_e, max_iterations = 1000, excluded_space=eigenvector_list)\n",
        "  eigenvalue_list.append(eig_val)\n",
        "  eigenvector_list = np.vstack((eigenvector_list, eig_vec))"
      ]
    },
    {
      "cell_type": "code",
      "execution_count": 11,
      "metadata": {
        "colab": {
          "base_uri": "https://localhost:8080/"
        },
        "id": "NkaZVZhzXBbZ",
        "outputId": "de8b5f34-f164-4bf5-f6f6-61e802cd8920"
      },
      "outputs": [
        {
          "data": {
            "text/plain": [
              "[(1.827477300124219e-16+0j),\n",
              " (-2.109356566320346e-18+0j),\n",
              " (-5.037210084842472e-19+0j),\n",
              " (-2.472777104284751e-19+0j),\n",
              " (-5.547992748380871e-20+0j),\n",
              " (-5.163029794323911e-19+0j)]"
            ]
          },
          "execution_count": 11,
          "metadata": {},
          "output_type": "execute_result"
        }
      ],
      "source": [
        "eigenvalue_list"
      ]
    },
    {
      "attachments": {},
      "cell_type": "markdown",
      "metadata": {
        "id": "rRnGHeUkzvpb"
      },
      "source": [
        "Good job! Now we simply plot and enjoy the fruit of our labor!"
      ]
    },
    {
      "cell_type": "code",
      "execution_count": 12,
      "metadata": {
        "colab": {
          "base_uri": "https://localhost:8080/",
          "height": 465
        },
        "id": "dClvJk0V6eFt",
        "outputId": "8dc8789f-ed49-484d-d6be-0f54a2ad0a30"
      },
      "outputs": [
        {
          "data": {
            "image/png": "[encoded data removed]",
            "text/plain": [
              "<Figure size 640x480 with 1 Axes>"
            ]
          },
          "metadata": {},
          "output_type": "display_data"
        }
      ],
      "source": [
        "# plot the eigenvalues\n",
        "plt.plot([x.real for x in eigenvalue_list[1:]], 'o')\n",
        "plt.xlabel('Eigenvalue index')\n",
        "plt.ylabel('Eigenvalue')\n",
        "plt.show()"
      ]
    },
    {
      "attachments": {},
      "cell_type": "markdown",
      "metadata": {
        "id": "uxgRHgf16eFu"
      },
      "source": [
        "As expected from ground state (1s) and first 4 excited states (1 from 2s and 3 from 2p)! Beautiful!"
      ]
    },
    {
      "cell_type": "code",
      "execution_count": 13,
      "metadata": {
        "colab": {
          "base_uri": "https://localhost:8080/"
        },
        "id": "5UXVvvde6eFu",
        "outputId": "c17b50fc-b7c9-4aaf-aa07-1d5db855443c"
      },
      "outputs": [
        {
          "name": "stdout",
          "output_type": "stream",
          "text": [
            "Ground state energy (calculated):  -2.109356566320346e-18 J\n",
            "Ground state energy (known):  -2.1789602222399996e-18 J\n"
          ]
        }
      ],
      "source": [
        "#the ground state energy is the first eigenvalue\n",
        "print('Ground state energy (calculated): ', min_e.real, 'J')\n",
        "\n",
        "#the true value of the ground state energy is -13.6 eV\n",
        "print('Ground state energy (known): ', -13.6*e, 'J')"
      ]
    },
    {
      "cell_type": "code",
      "execution_count": 14,
      "metadata": {
        "id": "JYCK13XE6eFu"
      },
      "outputs": [],
      "source": [
        "def plot_wavefunction_2dslice(eigenvector, slice_index = N//2):\n",
        "  # plot the wavefunction in 2D slices\n",
        "  plt.figure(figsize=(10,10))\n",
        "  plt.imshow(np.abs(eigenvector.reshape((N,N,N))[:,:,slice_index]), cmap='hot')\n",
        "  plt.colorbar()\n",
        "  plt.show()"
      ]
    },
    {
      "cell_type": "code",
      "execution_count": 15,
      "metadata": {
        "colab": {
          "base_uri": "https://localhost:8080/",
          "height": 807
        },
        "id": "Q3e4eGohhVxp",
        "outputId": "675e4ebb-6b6a-4052-d395-792dab7bd340"
      },
      "outputs": [
        {
          "data": {
            "image/png": "[encoded data removed]",
            "text/plain": [
              "<Figure size 1000x1000 with 2 Axes>"
            ]
          },
          "metadata": {},
          "output_type": "display_data"
        }
      ],
      "source": [
        "plot_wavefunction_2dslice(eigenvector_list[2,:])"
      ]
    },
    {
      "attachments": {},
      "cell_type": "markdown",
      "metadata": {
        "id": "FQJduWs20EEy"
      },
      "source": [
        "Now we plot all the 4 $n=2$ wave fucntions."
      ]
    },
    {
      "cell_type": "code",
      "execution_count": 16,
      "metadata": {
        "id": "K0cAseRZ6eFv"
      },
      "outputs": [],
      "source": [
        "def plot_all_probdensity_2dslice(eigenvectors, slice_index = N//2):\n",
        "  # plot the wavefunction in 2D slices\n",
        "  n = ceil(sqrt(len(eigenvectors)))\n",
        "  plt.figure(figsize=(10,10))\n",
        "  for i in range(len(eigenvectors)):\n",
        "    plt.subplot(n,n,i+1)\n",
        "    plt.imshow(np.abs(eigenvectors[i].reshape((N,N,N))[:,:,slice_index])**2, cmap='hot')\n",
        "  plt.show()"
      ]
    },
    {
      "cell_type": "code",
      "execution_count": 17,
      "metadata": {
        "colab": {
          "base_uri": "https://localhost:8080/",
          "height": 834
        },
        "id": "ZCP3REe66eFv",
        "outputId": "45db4086-c8ae-443e-a32c-c4b864e729f7"
      },
      "outputs": [
        {
          "data": {
            "image/png": "[encoded data removed]",
            "text/plain": [
              "<Figure size 1000x1000 with 4 Axes>"
            ]
          },
          "metadata": {},
          "output_type": "display_data"
        }
      ],
      "source": [
        "plot_all_probdensity_2dslice(eigenvector_list[2:6], )"
      ]
    },
    {
      "attachments": {},
      "cell_type": "markdown",
      "metadata": {
        "id": "oYEP2ljH6eFv"
      },
      "source": [
        "As you can see, the wavefunctions (their probability density really, which we have plotted here) are not in the neat order or in the neat axis oriented forms we see in textbooks. This is because our algorithm has no way discriminating between degenerate states in a particular eigenspace. Thus we end up with arbitrary linear combinations of 2s and 2p orbitals."
      ]
    },
    {
      "attachments": {},
      "cell_type": "markdown",
      "metadata": {
        "id": "edl2MN7u1xmV"
      },
      "source": [
        "Of course, there are better algorithms like Arnoldi iteration (a variant of which is used by `scipy.sparse.linalg.eigs`) which don't discard information from previous iterations and try to diagonalize in a reduced space called Krylov subspaces $= \\operatorname{span}\\left\\{b, Ab, A^2b, \\cdots A^kb \\right\\}$, but these are right now beyond the scope. Of course, the improvements are immense; `scipy.sparse.linalg.eigs` gives us 30 eigenvectors in less time than we took for 6."
      ]
    },
    {
      "attachments": {},
      "cell_type": "markdown",
      "metadata": {
        "id": "kvPUvnFW6eFv"
      },
      "source": [
        "# Time Evolution\n",
        "\n",
        "Okay! now that we have explored the eigenvalues and eigenvectors, let's solve the time dependent Schrodinger equation and see some action; but how do we do that?\n",
        "\n",
        "First of all, note that the right hand side of the equation, for a given position and time (for which we know the value of $psi$ at all points), is just a number we can compute, and it gives us $i \\hbar \\frac{\\partial \\psi_{i, j, k}}{\\partial t}$. By using a first-order Taylor series expansion, we simply write:\n",
        "\n",
        "$$\\psi_{i,j,k}(t + \\Delta t) = \\psi_{i, j, k}(t) + \\Delta t \\frac{\\partial \\psi_{i, j, k}(t)}{\\partial t}$$\n",
        "\n",
        "Since we can obtain the partial derivative of $\\psi_{i,j,k}(t)$ via the Schrodinger Equation, we are all set for solving the time dependent Schrodinger equation, and simulating things such as an electron (as a gaussian wave packet) being captured by the proton's potential and forming a hydrogen atom!\n"
      ]
    },
    {
      "attachments": {},
      "cell_type": "markdown",
      "metadata": {
        "id": "t5ibeHwE6eFv"
      },
      "source": [
        "Now, in terms of implementation, note that we have our Hamiltonian matrix computed already. We can of course take the simple approach of multiplying the Hamiltonian and the state vector at $t=0$, and plug the result for the derivative in the formula above. But that introduces errors in our time integration. In order to minimize those errors, we will study _Runge-Kutta_ methods.\n",
        "\n",
        "Before we get into RK methods however, let us study a particular case, one applying only to linear system evolution. Just as the DE $y' = a y$ is solved by $y=e^{at} y_0$, such a DE on a vector can be solved similarly. In quantum mechanics, the operator thus obtained is known as the _time evolution operator_.\n",
        "$$i \\hbar \\frac{\\partial \\psi}{\\partial t} = \\hat{H} \\psi \\implies \\psi = \\hat{U}(t) \\psi_0 = \\exp\\left(\\frac{-i}{\\hbar} \\hat{H} t\\right) \\psi_0$$\n",
        "\n",
        "Now we could compute the diagonalization of $\\hat{H}$ and [compute it's exponential](https://www.youtube.com/watch?v=O85OWBJ2ayo)(a 3B1B video that will also explain what a matrix exponential is) that way, or use a Krylov subspace again (like `scipy.sparse.linalg.expm_multiply`), but that is complicated. What we can do, use the Taylor series definiton of an exponential. By definition, $$e^\\hat{A} = I + \\hat{A} + \\frac{1}{2!} \\hat{A}^2 + \\frac{1}{3!} \\hat{A}^3 + \\frac{1}{4!} \\hat{A}^4 + \\cdots$$\n",
        "\n",
        "Thus we can choose upto which order of approximation we want, and obtain that $$\\begin{align}\n",
        "\\psi(t+h) &= \\left( I - h\\frac{i}{\\hbar} \\hat{H} \\right) \\psi(t) + O(h^2) \\tag{Euler's method} \\\\\n",
        "\\psi(t+h) &= \\left( I - h\\frac{i}{\\hbar} \\hat{H} - h^2\\frac{1}{\\hbar^2} \\hat{H}^2 \\right) \\psi(t) + O(h^2) \\\\\n",
        "\\psi(t+h) &= \\left( I - h\\frac{i}{\\hbar} \\hat{H} - h^2\\frac{1}{\\hbar^2} \\hat{H}^2 + h^3\\frac{i}{\\hbar^3} \\hat{H}^3 \\right) \\psi(t) + O(h^2) \\\\\n",
        "\\psi(t+h) &= \\left( I - h\\frac{i}{\\hbar} \\hat{H} - h^2\\frac{1}{\\hbar^2} \\hat{H}^2 + h^3\\frac{i}{\\hbar^3} \\hat{H}^3 + h^4 \\frac{1}{\\hbar^4} \\hat{H}^4\\right) \\psi(t) + O(h^5) \\\\\n",
        "\\end{align}$$\n",
        "\n",
        "Let us quickly use that for simulating a system."
      ]
    },
    {
      "cell_type": "code",
      "execution_count": 19,
      "metadata": {
        "id": "3FT5paFf6eFv"
      },
      "outputs": [],
      "source": [
        "N = 64\n",
        "Delta_x = 1e-8/N # our boundary width is 1e-8 m\n",
        "#also, note that the proton is at the coordinate\n",
        "proton_index3d = ((N - 1)/2.0, (N - 1)/2.0, (N - 1)/2.0)\n",
        "hamiltonian = get_hamiltonian(sp.lil_matrix((N**3, N**3), dtype=np.cfloat), N, Delta_x).tocsr()"
      ]
    },
    {
      "attachments": {},
      "cell_type": "markdown",
      "metadata": {
        "id": "cXUwZr3mXvhH"
      },
      "source": [
        "##Question 5: Wavefunction at the next timestep\n",
        "This is the final question, and the easiest one too!\n",
        "\n",
        "Take any of the Taylor approximations provided for $\\psi(t + h)$, and write the corresponding expression for `wavefunction_t` in the code below.\n",
        "\n",
        "After that, simply run the code below and observe the results!"
      ]
    },
    {
      "cell_type": "code",
      "execution_count": 21,
      "metadata": {
        "colab": {
          "base_uri": "https://localhost:8080/",
          "height": 1000
        },
        "id": "2j4224Nl6eFv",
        "outputId": "105fe11e-1cde-45f8-b014-eaf7b24d9b0a"
      },
      "outputs": [
        {
          "data": {
            "image/png": "[encoded data removed]",
            "text/plain": [
              "<Figure size 640x480 with 2 Axes>"
            ]
          },
          "metadata": {},
          "output_type": "display_data"
        },
        {
          "name": "stderr",
          "output_type": "stream",
          "text": [
            "  0%|          | 0/1000 [00:00<?, ?it/s]"
          ]
        },
        {
          "data": {
            "image/png": "[encoded data removed]",
            "text/plain": [
              "<Figure size 640x480 with 1 Axes>"
            ]
          },
          "metadata": {},
          "output_type": "display_data"
        },
        {
          "name": "stderr",
          "output_type": "stream",
          "text": [
            "  5%|▌         | 50/1000 [02:56<55:28,  3.50s/it]  "
          ]
        },
        {
          "data": {
            "image/png": "[encoded data removed]",
            "text/plain": [
              "<Figure size 640x480 with 1 Axes>"
            ]
          },
          "metadata": {},
          "output_type": "display_data"
        },
        {
          "name": "stderr",
          "output_type": "stream",
          "text": [
            " 10%|█         | 100/1000 [05:48<44:23,  2.96s/it] C:\\Users\\athar\\AppData\\Local\\Packages\\PythonSoftwareFoundation.Python.3.10_qbz5n2kfra8p0\\LocalCache\\local-packages\\Python310\\site-packages\\matplotlib\\image.py:455: RuntimeWarning: overflow encountered in scalar multiply\n",
            "  newmin = vmid - dv * fact\n",
            "C:\\Users\\athar\\AppData\\Local\\Packages\\PythonSoftwareFoundation.Python.3.10_qbz5n2kfra8p0\\LocalCache\\local-packages\\Python310\\site-packages\\matplotlib\\image.py:460: RuntimeWarning: overflow encountered in scalar multiply\n",
            "  newmax = vmid + dv * fact\n"
          ]
        },
        {
          "data": {
            "image/png": "[encoded data removed]",
            "text/plain": [
              "<Figure size 640x480 with 1 Axes>"
            ]
          },
          "metadata": {},
          "output_type": "display_data"
        },
        {
          "name": "stderr",
          "output_type": "stream",
          "text": [
            " 10%|█         | 101/1000 [05:53<52:56,  3.53s/it]C:\\Users\\athar\\AppData\\Local\\Temp\\ipykernel_31444\\2178812932.py:38: RuntimeWarning: overflow encountered in square\n",
            "  plt.imshow(np.abs(wavefunction_t.reshape((N,N,N ))[:,:,N//2])**2, cmap='hot', interpolation='bilinear')\n",
            " 15%|█▌        | 150/1000 [08:16<34:34,  2.44s/it]C:\\Users\\athar\\AppData\\Local\\Temp\\ipykernel_31444\\2178812932.py:43: RuntimeWarning: overflow encountered in square\n",
            "  plt.imshow(np.abs(wavefunction_t.reshape((N,N,N))[:,:,N//2])**2, cmap='hot')\n",
            "C:\\Users\\athar\\AppData\\Local\\Packages\\PythonSoftwareFoundation.Python.3.10_qbz5n2kfra8p0\\LocalCache\\local-packages\\Python310\\site-packages\\matplotlib\\image.py:491: RuntimeWarning: invalid value encountered in divide\n",
            "  A_scaled /= ((a_max - a_min) / frac)\n",
            "C:\\Users\\athar\\AppData\\Local\\Packages\\PythonSoftwareFoundation.Python.3.10_qbz5n2kfra8p0\\LocalCache\\local-packages\\Python310\\site-packages\\matplotlib\\image.py:505: RuntimeWarning: invalid value encountered in multiply\n",
            "  A_resampled *= ((a_max - a_min) / frac)\n",
            "C:\\Users\\athar\\AppData\\Local\\Packages\\PythonSoftwareFoundation.Python.3.10_qbz5n2kfra8p0\\LocalCache\\local-packages\\Python310\\site-packages\\matplotlib\\image.py:506: RuntimeWarning: invalid value encountered in multiply\n",
            "  vrange *= ((a_max - a_min) / frac)\n"
          ]
        },
        {
          "data": {
            "image/png": "[encoded data removed]",
            "text/plain": [
              "<Figure size 640x480 with 1 Axes>"
            ]
          },
          "metadata": {},
          "output_type": "display_data"
        },
        {
          "name": "stderr",
          "output_type": "stream",
          "text": [
            " 19%|█▉        | 193/1000 [10:25<52:41,  3.92s/it]C:\\Users\\athar\\AppData\\Local\\Temp\\ipykernel_31444\\2178812932.py:38: RuntimeWarning: overflow encountered in absolute\n",
            "  plt.imshow(np.abs(wavefunction_t.reshape((N,N,N ))[:,:,N//2])**2, cmap='hot', interpolation='bilinear')\n",
            " 20%|██        | 200/1000 [10:53<53:04,  3.98s/it]"
          ]
        },
        {
          "data": {
            "image/png": "[encoded data removed]",
            "text/plain": [
              "<Figure size 640x480 with 1 Axes>"
            ]
          },
          "metadata": {},
          "output_type": "display_data"
        },
        {
          "name": "stderr",
          "output_type": "stream",
          "text": [
            " 25%|██▌       | 250/1000 [14:05<47:00,  3.76s/it]  "
          ]
        },
        {
          "data": {
            "image/png": "[encoded data removed]",
            "text/plain": [
              "<Figure size 640x480 with 1 Axes>"
            ]
          },
          "metadata": {},
          "output_type": "display_data"
        },
        {
          "name": "stderr",
          "output_type": "stream",
          "text": [
            " 30%|███       | 300/1000 [17:37<32:52,  2.82s/it]  "
          ]
        },
        {
          "data": {
            "image/png": "[encoded data removed]",
            "text/plain": [
              "<Figure size 640x480 with 1 Axes>"
            ]
          },
          "metadata": {},
          "output_type": "display_data"
        },
        {
          "name": "stderr",
          "output_type": "stream",
          "text": [
            " 35%|███▌      | 350/1000 [21:23<26:12,  2.42s/it]  "
          ]
        },
        {
          "data": {
            "image/png": "[encoded data removed]",
            "text/plain": [
              "<Figure size 640x480 with 1 Axes>"
            ]
          },
          "metadata": {},
          "output_type": "display_data"
        },
        {
          "name": "stderr",
          "output_type": "stream",
          "text": [
            " 40%|████      | 400/1000 [23:32<25:54,  2.59s/it]"
          ]
        },
        {
          "data": {
            "image/png": "[encoded data removed]",
            "text/plain": [
              "<Figure size 640x480 with 1 Axes>"
            ]
          },
          "metadata": {},
          "output_type": "display_data"
        },
        {
          "name": "stderr",
          "output_type": "stream",
          "text": [
            " 45%|████▌     | 450/1000 [25:45<26:47,  2.92s/it]"
          ]
        },
        {
          "data": {
            "image/png": "[encoded data removed]",
            "text/plain": [
              "<Figure size 640x480 with 1 Axes>"
            ]
          },
          "metadata": {},
          "output_type": "display_data"
        },
        {
          "name": "stderr",
          "output_type": "stream",
          "text": [
            " 50%|█████     | 500/1000 [28:11<23:20,  2.80s/it]"
          ]
        },
        {
          "data": {
            "image/png": "[encoded data removed]",
            "text/plain": [
              "<Figure size 640x480 with 1 Axes>"
            ]
          },
          "metadata": {},
          "output_type": "display_data"
        },
        {
          "name": "stderr",
          "output_type": "stream",
          "text": [
            " 55%|█████▌    | 550/1000 [30:48<40:36,  5.41s/it]"
          ]
        },
        {
          "data": {
            "image/png": "[encoded data removed]",
            "text/plain": [
              "<Figure size 640x480 with 1 Axes>"
            ]
          },
          "metadata": {},
          "output_type": "display_data"
        },
        {
          "name": "stderr",
          "output_type": "stream",
          "text": [
            " 60%|██████    | 600/1000 [36:41<46:45,  7.01s/it]"
          ]
        },
        {
          "data": {
            "image/png": "[encoded data removed]",
            "text/plain": [
              "<Figure size 640x480 with 1 Axes>"
            ]
          },
          "metadata": {},
          "output_type": "display_data"
        },
        {
          "name": "stderr",
          "output_type": "stream",
          "text": [
            " 65%|██████▌   | 650/1000 [42:07<39:05,  6.70s/it]"
          ]
        },
        {
          "data": {
            "image/png": "[encoded data removed]",
            "text/plain": [
              "<Figure size 640x480 with 1 Axes>"
            ]
          },
          "metadata": {},
          "output_type": "display_data"
        },
        {
          "name": "stderr",
          "output_type": "stream",
          "text": [
            " 70%|███████   | 700/1000 [47:38<33:54,  6.78s/it]"
          ]
        },
        {
          "data": {
            "image/png": "[encoded data removed]",
            "text/plain": [
              "<Figure size 640x480 with 1 Axes>"
            ]
          },
          "metadata": {},
          "output_type": "display_data"
        },
        {
          "name": "stderr",
          "output_type": "stream",
          "text": [
            " 75%|███████▌  | 750/1000 [53:22<28:05,  6.74s/it]"
          ]
        },
        {
          "data": {
            "image/png": "[encoded data removed]",
            "text/plain": [
              "<Figure size 640x480 with 1 Axes>"
            ]
          },
          "metadata": {},
          "output_type": "display_data"
        },
        {
          "name": "stderr",
          "output_type": "stream",
          "text": [
            " 80%|████████  | 800/1000 [14:45:14<1:43:53, 31.17s/it]     "
          ]
        },
        {
          "data": {
            "image/png": "[encoded data removed]",
            "text/plain": [
              "<Figure size 640x480 with 1 Axes>"
            ]
          },
          "metadata": {},
          "output_type": "display_data"
        },
        {
          "name": "stderr",
          "output_type": "stream",
          "text": [
            " 85%|████████▌ | 850/1000 [14:48:37<09:20,  3.73s/it]  "
          ]
        },
        {
          "data": {
            "image/png": "[encoded data removed]",
            "text/plain": [
              "<Figure size 640x480 with 1 Axes>"
            ]
          },
          "metadata": {},
          "output_type": "display_data"
        },
        {
          "name": "stderr",
          "output_type": "stream",
          "text": [
            " 90%|█████████ | 900/1000 [14:51:47<07:31,  4.51s/it]"
          ]
        },
        {
          "data": {
            "image/png": "[encoded data removed]",
            "text/plain": [
              "<Figure size 640x480 with 1 Axes>"
            ]
          },
          "metadata": {},
          "output_type": "display_data"
        },
        {
          "name": "stderr",
          "output_type": "stream",
          "text": [
            " 95%|█████████▌| 950/1000 [14:54:49<02:23,  2.86s/it]"
          ]
        },
        {
          "data": {
            "image/png": "[encoded data removed]",
            "text/plain": [
              "<Figure size 640x480 with 1 Axes>"
            ]
          },
          "metadata": {},
          "output_type": "display_data"
        },
        {
          "name": "stderr",
          "output_type": "stream",
          "text": [
            "100%|██████████| 1000/1000 [14:57:17<00:00, 53.84s/it]\n"
          ]
        },
        {
          "data": {
            "image/png": "[encoded data removed]",
            "text/plain": [
              "<Figure size 640x480 with 1 Axes>"
            ]
          },
          "metadata": {},
          "output_type": "display_data"
        }
      ],
      "source": [
        "from tqdm import tqdm\n",
        "from scipy.sparse.linalg import expm, expm_multiply\n",
        "\n",
        "# let's compute the time evolution of the wavefunction\n",
        "# we will a 3d gaussian wavepacket as the initial wavefunction\n",
        "\n",
        "#the width of the wavepacket will be 2 angstroms\n",
        "# the wavepacket will be moving in the +x direction\n",
        "\n",
        "initial_wavefunction = np.zeros((N**3), dtype=np.cfloat)\n",
        "width = 2e-9\n",
        "for I in range(N**3):\n",
        "  i,j,k = flat_to_index3d(I)\n",
        "  initial_wavefunction[I] = np.exp(-((i-N/2.5)*Delta_x)**2/width**2 - ((j-N/2.5)*Delta_x)**2/width**2 - ((k-N/2)*Delta_x)**2/width**2) \\\n",
        "                                  * np.exp(1j*1e-24*(i-N/2.5)*Delta_x/hbar)\n",
        "\n",
        "# we can also use the scipy.sparse.linalg.expm_multiply function to compute the time evolution\n",
        "# this function uses the Krylov subspace approximation to the matrix exponential\n",
        "# this function is much faster than computing the matrix exponential directly and then multiplying with the wavefunction\n",
        "\n",
        "plt.imshow(np.abs(initial_wavefunction.reshape((N,N,N))[:,:,N//2])**2, cmap='hot')\n",
        "plt.colorbar()\n",
        "plt.show()\n",
        "\n",
        "# the time evolution of the wavefunction\n",
        "timesteps = 1000\n",
        "timestep = 1e-16\n",
        "norm_t = np.zeros((timesteps,1), dtype=np.cfloat)\n",
        "\n",
        "matrix = -1j * hamiltonian / hbar\n",
        "wavefunction_t = initial_wavefunction\n",
        "for t in tqdm(range(timesteps)):\n",
        "  '''Type in the appropriate expression here\n",
        "  '''\n",
        "  wavefunction_t =(sp.identity(N**3) -1j*(timestep/hbar)*hamiltonian - ((timestep/hbar)**2/2)*hamiltonian@hamiltonian + -1j*((timestep/hbar)**3/6)*hamiltonian@hamiltonian@hamiltonian - ((timestep/hbar)**4/24)*hamiltonian@hamiltonian@hamiltonian@hamiltonian ) @ wavefunction_t\n",
        "\n",
        "\n",
        "  plt.imshow(np.abs(wavefunction_t.reshape((N,N,N ))[:,:,N//2])**2, cmap='hot', interpolation='bilinear')\n",
        "  plt.axis('off')\n",
        "  #plt.savefig('results/{}.png'.format(t), bbox_inches='tight')\n",
        "\n",
        "  if t % 50 == 0:\n",
        "    plt.imshow(np.abs(wavefunction_t.reshape((N,N,N))[:,:,N//2])**2, cmap='hot')\n",
        "    plt.show()\n"
      ]
    }
  ],
  "metadata": {
    "colab": {
      "provenance": []
    },
    "kernelspec": {
      "display_name": "Python 3",
      "language": "python",
      "name": "python3"
    },
    "language_info": {
      "codemirror_mode": {
        "name": "ipython",
        "version": 3
      },
      "file_extension": ".py",
      "mimetype": "text/x-python",
      "name": "python",
      "nbconvert_exporter": "python",
      "pygments_lexer": "ipython3",
      "version": "3.10.11"
    },
    "orig_nbformat": 4
  },
  "nbformat": 4,
  "nbformat_minor": 0
}
