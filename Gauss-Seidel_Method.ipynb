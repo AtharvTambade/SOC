{
 "cells": [
  {
   "cell_type": "code",
   "execution_count": 1,
   "metadata": {},
   "outputs": [
    {
     "name": "stdout",
     "output_type": "stream",
     "text": [
      "[0.75, 0, 0]\n",
      "[0.75, 1.75, 0]\n",
      "[0.75, 1.75, -1.0]\n",
      "[0.9375, 1.75, -1.0]\n",
      "[0.9375, 1.9791666666666667, -1.0]\n",
      "[0.9375, 1.9791666666666667, -1.005952380952381]\n",
      "[0.9933035714285714, 1.9791666666666667, -1.005952380952381]\n",
      "[0.9933035714285714, 1.9987599206349207, -1.005952380952381]\n",
      "[0.9933035714285714, 1.9987599206349207, -1.00077947845805]\n",
      "[0.9933035714285714, 1.9987599206349207, -1.00077947845805]\n"
     ]
    }
   ],
   "source": [
    "from math import *\n",
    "import numpy as np\n",
    "import copy\n",
    "# here I am just using jacobi algorhithm and similar things as newton raphson case\n",
    "# here I defined stopping criteria again as distance between the consecutive iterartions reduces as \n",
    "# it goes below certain threshhold we have to stop\n",
    "def Gauss_Seidel (a, b, x_0, n, stopping_criteria):\n",
    "   x=x_0\n",
    "   root_found = False\n",
    "   while root_found == False :\n",
    "    x_previous = copy.deepcopy(x)\n",
    "    for i in range(0, n):\n",
    "      x[i]= (b[i]-np.dot(x,a[:][i])+x[i]*a[i][i])/a[i][i]\n",
    "      print(x)\n",
    "    y=np.subtract(x_previous,x)\n",
    "    norm = sqrt(np.dot(y,y))\n",
    "    if norm < stopping_criteria:\n",
    "      root_found = True\n",
    "   return x\n",
    "\n",
    "approx_value = Gauss_Seidel([[4,-1,-1],[-2, 6, 1],[-1, 1, 7]], [3,9,-6], [0,0,0], 3, 10**-1 )\n",
    "print(approx_value)"
   ]
  },
  {
   "cell_type": "code",
   "execution_count": 24,
   "metadata": {},
   "outputs": [
    {
     "name": "stdout",
     "output_type": "stream",
     "text": [
      "[-0.75 -1.75  1.  ]\n"
     ]
    }
   ],
   "source": [
    "x=[0.75\n",
    ",1.75\n",
    ",-1.0]\n",
    "y = [0,0,0]\n",
    "print(np.subtract(y,x))"
   ]
  }
 ],
 "metadata": {
  "kernelspec": {
   "display_name": "Python 3",
   "language": "python",
   "name": "python3"
  },
  "language_info": {
   "codemirror_mode": {
    "name": "ipython",
    "version": 3
   },
   "file_extension": ".py",
   "mimetype": "text/x-python",
   "name": "python",
   "nbconvert_exporter": "python",
   "pygments_lexer": "ipython3",
   "version": "3.10.11"
  },
  "orig_nbformat": 4
 },
 "nbformat": 4,
 "nbformat_minor": 2
}
