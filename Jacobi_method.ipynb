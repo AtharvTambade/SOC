{
 "cells": [
  {
   "cell_type": "code",
   "execution_count": 3,
   "metadata": {},
   "outputs": [
    {
     "name": "stdout",
     "output_type": "stream",
     "text": [
      "[0.75 0.   0.   0.  ]\n",
      "[0.75 1.5  0.   0.  ]\n",
      "[ 0.75        1.5        -0.85714286  0.        ]\n",
      "[ 0.75        1.5        -0.85714286  9.        ]\n",
      "[ 0.75        1.5        -0.85714286  9.        ]\n",
      "[0.91071429 0.         0.         0.        ]\n",
      "[0.91071429 1.89285714 0.         0.        ]\n",
      "[ 0.91071429  1.89285714 -0.96428571  0.        ]\n",
      "[ 0.91071429  1.89285714 -0.96428571  9.        ]\n",
      "[ 0.91071429  1.89285714 -0.96428571  9.        ]\n",
      "[0.98214286 0.         0.         0.        ]\n",
      "[0.98214286 1.96428571 0.         0.        ]\n",
      "[ 0.98214286  1.96428571 -0.99744898  0.        ]\n",
      "[ 0.98214286  1.96428571 -0.99744898  9.        ]\n",
      "[ 0.98214286  1.96428571 -0.99744898  9.        ]\n",
      "[0.99170918 0.         0.         0.        ]\n",
      "[0.99170918 1.99362245 0.         0.        ]\n",
      "[ 0.99170918  1.99362245 -0.99744898  0.        ]\n",
      "[ 0.99170918  1.99362245 -0.99744898  9.        ]\n",
      "[ 0.99170918  1.99362245 -0.99744898  9.        ]\n",
      "[ 0.99170918  1.99362245 -0.99744898  9.        ]\n"
     ]
    }
   ],
   "source": [
    "from math import *\n",
    "import numpy as np\n",
    "import copy\n",
    "# here I am just using jacobi algorhithm and similar things as newton raphson case\n",
    "# here I defined stopping criteria again as distance between the consecutive iterartions reduces as \n",
    "# it goes below certain threshhold we have to stop\n",
    "def jacobi (a, b, x_0, n, stopping_criteria):\n",
    "   x=x_0\n",
    "   root_found = False\n",
    "   while root_found == False :\n",
    "    x_previous = copy.deepcopy(x)\n",
    "    y=np.zeros(n)\n",
    "    for i in range(0, n):\n",
    "      y[i]= (b[i]-np.dot(x,a[:][i])+x[i]*a[i][i])/a[i][i]\n",
    "      print (y)\n",
    "    x = copy.deepcopy(y)\n",
    "    print (x)\n",
    "    z=np.subtract(x_previous,x)\n",
    "    norm = sqrt(np.dot(z,z))\n",
    "    if norm < stopping_criteria:\n",
    "      root_found = True\n",
    "   return x\n",
    "\n",
    "approx_value = jacobi([[4,-1,-1,0],[-2, 6, 1,0],[-1, 1, 7,0],[0,0,0,1]], [3,9,-6,9], [0,0,0,0], 4, 10**-1 )\n",
    "print(approx_value)"
   ]
  }
 ],
 "metadata": {
  "kernelspec": {
   "display_name": "Python 3",
   "language": "python",
   "name": "python3"
  },
  "language_info": {
   "codemirror_mode": {
    "name": "ipython",
    "version": 3
   },
   "file_extension": ".py",
   "mimetype": "text/x-python",
   "name": "python",
   "nbconvert_exporter": "python",
   "pygments_lexer": "ipython3",
   "version": "3.10.11"
  },
  "orig_nbformat": 4
 },
 "nbformat": 4,
 "nbformat_minor": 2
}
